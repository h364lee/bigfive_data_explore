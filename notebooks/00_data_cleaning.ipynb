{
 "cells": [
  {
   "cell_type": "markdown",
   "id": "794dbd38",
   "metadata": {},
   "source": [
    "# Bigfive Exploration"
   ]
  },
  {
   "cell_type": "code",
   "execution_count": 27,
   "id": "27ba0acb-8adb-40b6-a788-6831cba6cc7a",
   "metadata": {},
   "outputs": [
    {
     "name": "stdout",
     "output_type": "stream",
     "text": [
      "Python version: 3.12.0 (v3.12.0:0fb18b02c8, Oct  2 2023, 09:45:56) [Clang 13.0.0 (clang-1300.0.29.30)]\n",
      "Pandas version: 2.3.0\n",
      "Numpy version: 2.3.1\n",
      "Seaborn version: 0.13.2\n"
     ]
    }
   ],
   "source": [
    "import sys\n",
    "import pandas as pd\n",
    "import numpy as np\n",
    "import matplotlib.pyplot as plt\n",
    "import seaborn as sns\n",
    "\n",
    "print(\"Python version:\", sys.version)\n",
    "print(\"Pandas version:\", pd.__version__)\n",
    "print(\"Numpy version:\", np.__version__)\n",
    "print(\"Seaborn version:\", sns.__version__)"
   ]
  },
  {
   "cell_type": "code",
   "execution_count": 28,
   "id": "caf069aa",
   "metadata": {},
   "outputs": [],
   "source": [
    "#Import dataset\n",
    "df = pd.read_csv(\"../data/raw/raw_data.csv\", sep='\\t')"
   ]
  },
  {
   "cell_type": "markdown",
   "id": "bbbef79a",
   "metadata": {},
   "source": [
    "### Data Overview"
   ]
  },
  {
   "cell_type": "code",
   "execution_count": 29,
   "id": "e1661fd6",
   "metadata": {},
   "outputs": [
    {
     "data": {
      "text/html": [
       "<div>\n",
       "<style scoped>\n",
       "    .dataframe tbody tr th:only-of-type {\n",
       "        vertical-align: middle;\n",
       "    }\n",
       "\n",
       "    .dataframe tbody tr th {\n",
       "        vertical-align: top;\n",
       "    }\n",
       "\n",
       "    .dataframe thead th {\n",
       "        text-align: right;\n",
       "    }\n",
       "</style>\n",
       "<table border=\"1\" class=\"dataframe\">\n",
       "  <thead>\n",
       "    <tr style=\"text-align: right;\">\n",
       "      <th></th>\n",
       "      <th>EXT1</th>\n",
       "      <th>EXT2</th>\n",
       "      <th>EXT3</th>\n",
       "      <th>EXT4</th>\n",
       "      <th>EXT5</th>\n",
       "      <th>EXT6</th>\n",
       "      <th>EXT7</th>\n",
       "      <th>EXT8</th>\n",
       "      <th>EXT9</th>\n",
       "      <th>EXT10</th>\n",
       "      <th>...</th>\n",
       "      <th>dateload</th>\n",
       "      <th>screenw</th>\n",
       "      <th>screenh</th>\n",
       "      <th>introelapse</th>\n",
       "      <th>testelapse</th>\n",
       "      <th>endelapse</th>\n",
       "      <th>IPC</th>\n",
       "      <th>country</th>\n",
       "      <th>lat_appx_lots_of_err</th>\n",
       "      <th>long_appx_lots_of_err</th>\n",
       "    </tr>\n",
       "  </thead>\n",
       "  <tbody>\n",
       "    <tr>\n",
       "      <th>0</th>\n",
       "      <td>4.0</td>\n",
       "      <td>1.0</td>\n",
       "      <td>5.0</td>\n",
       "      <td>2.0</td>\n",
       "      <td>5.0</td>\n",
       "      <td>1.0</td>\n",
       "      <td>5.0</td>\n",
       "      <td>2.0</td>\n",
       "      <td>4.0</td>\n",
       "      <td>1.0</td>\n",
       "      <td>...</td>\n",
       "      <td>2016-03-03 02:01:01</td>\n",
       "      <td>768.0</td>\n",
       "      <td>1024.0</td>\n",
       "      <td>9.0</td>\n",
       "      <td>234.0</td>\n",
       "      <td>6</td>\n",
       "      <td>1</td>\n",
       "      <td>GB</td>\n",
       "      <td>51.5448</td>\n",
       "      <td>0.1991</td>\n",
       "    </tr>\n",
       "    <tr>\n",
       "      <th>1</th>\n",
       "      <td>3.0</td>\n",
       "      <td>5.0</td>\n",
       "      <td>3.0</td>\n",
       "      <td>4.0</td>\n",
       "      <td>3.0</td>\n",
       "      <td>3.0</td>\n",
       "      <td>2.0</td>\n",
       "      <td>5.0</td>\n",
       "      <td>1.0</td>\n",
       "      <td>5.0</td>\n",
       "      <td>...</td>\n",
       "      <td>2016-03-03 02:01:20</td>\n",
       "      <td>1360.0</td>\n",
       "      <td>768.0</td>\n",
       "      <td>12.0</td>\n",
       "      <td>179.0</td>\n",
       "      <td>11</td>\n",
       "      <td>1</td>\n",
       "      <td>MY</td>\n",
       "      <td>3.1698</td>\n",
       "      <td>101.706</td>\n",
       "    </tr>\n",
       "    <tr>\n",
       "      <th>2</th>\n",
       "      <td>2.0</td>\n",
       "      <td>3.0</td>\n",
       "      <td>4.0</td>\n",
       "      <td>4.0</td>\n",
       "      <td>3.0</td>\n",
       "      <td>2.0</td>\n",
       "      <td>1.0</td>\n",
       "      <td>3.0</td>\n",
       "      <td>2.0</td>\n",
       "      <td>5.0</td>\n",
       "      <td>...</td>\n",
       "      <td>2016-03-03 02:01:56</td>\n",
       "      <td>1366.0</td>\n",
       "      <td>768.0</td>\n",
       "      <td>3.0</td>\n",
       "      <td>186.0</td>\n",
       "      <td>7</td>\n",
       "      <td>1</td>\n",
       "      <td>GB</td>\n",
       "      <td>54.9119</td>\n",
       "      <td>-1.3833</td>\n",
       "    </tr>\n",
       "    <tr>\n",
       "      <th>3</th>\n",
       "      <td>2.0</td>\n",
       "      <td>2.0</td>\n",
       "      <td>2.0</td>\n",
       "      <td>3.0</td>\n",
       "      <td>4.0</td>\n",
       "      <td>2.0</td>\n",
       "      <td>2.0</td>\n",
       "      <td>4.0</td>\n",
       "      <td>1.0</td>\n",
       "      <td>4.0</td>\n",
       "      <td>...</td>\n",
       "      <td>2016-03-03 02:02:02</td>\n",
       "      <td>1920.0</td>\n",
       "      <td>1200.0</td>\n",
       "      <td>186.0</td>\n",
       "      <td>219.0</td>\n",
       "      <td>7</td>\n",
       "      <td>1</td>\n",
       "      <td>GB</td>\n",
       "      <td>51.75</td>\n",
       "      <td>-1.25</td>\n",
       "    </tr>\n",
       "    <tr>\n",
       "      <th>4</th>\n",
       "      <td>3.0</td>\n",
       "      <td>3.0</td>\n",
       "      <td>3.0</td>\n",
       "      <td>3.0</td>\n",
       "      <td>5.0</td>\n",
       "      <td>3.0</td>\n",
       "      <td>3.0</td>\n",
       "      <td>5.0</td>\n",
       "      <td>3.0</td>\n",
       "      <td>4.0</td>\n",
       "      <td>...</td>\n",
       "      <td>2016-03-03 02:02:57</td>\n",
       "      <td>1366.0</td>\n",
       "      <td>768.0</td>\n",
       "      <td>8.0</td>\n",
       "      <td>315.0</td>\n",
       "      <td>17</td>\n",
       "      <td>2</td>\n",
       "      <td>KE</td>\n",
       "      <td>1.0</td>\n",
       "      <td>38.0</td>\n",
       "    </tr>\n",
       "  </tbody>\n",
       "</table>\n",
       "<p>5 rows × 110 columns</p>\n",
       "</div>"
      ],
      "text/plain": [
       "   EXT1  EXT2  EXT3  EXT4  EXT5  EXT6  EXT7  EXT8  EXT9  EXT10  ...  \\\n",
       "0   4.0   1.0   5.0   2.0   5.0   1.0   5.0   2.0   4.0    1.0  ...   \n",
       "1   3.0   5.0   3.0   4.0   3.0   3.0   2.0   5.0   1.0    5.0  ...   \n",
       "2   2.0   3.0   4.0   4.0   3.0   2.0   1.0   3.0   2.0    5.0  ...   \n",
       "3   2.0   2.0   2.0   3.0   4.0   2.0   2.0   4.0   1.0    4.0  ...   \n",
       "4   3.0   3.0   3.0   3.0   5.0   3.0   3.0   5.0   3.0    4.0  ...   \n",
       "\n",
       "              dateload  screenw  screenh  introelapse  testelapse  endelapse  \\\n",
       "0  2016-03-03 02:01:01    768.0   1024.0          9.0       234.0          6   \n",
       "1  2016-03-03 02:01:20   1360.0    768.0         12.0       179.0         11   \n",
       "2  2016-03-03 02:01:56   1366.0    768.0          3.0       186.0          7   \n",
       "3  2016-03-03 02:02:02   1920.0   1200.0        186.0       219.0          7   \n",
       "4  2016-03-03 02:02:57   1366.0    768.0          8.0       315.0         17   \n",
       "\n",
       "   IPC  country  lat_appx_lots_of_err  long_appx_lots_of_err  \n",
       "0    1       GB               51.5448                 0.1991  \n",
       "1    1       MY                3.1698                101.706  \n",
       "2    1       GB               54.9119                -1.3833  \n",
       "3    1       GB                 51.75                  -1.25  \n",
       "4    2       KE                   1.0                   38.0  \n",
       "\n",
       "[5 rows x 110 columns]"
      ]
     },
     "execution_count": 29,
     "metadata": {},
     "output_type": "execute_result"
    }
   ],
   "source": [
    "df.head()"
   ]
  },
  {
   "cell_type": "code",
   "execution_count": 30,
   "id": "854377fc",
   "metadata": {},
   "outputs": [
    {
     "data": {
      "text/plain": [
       "(1015341, 110)"
      ]
     },
     "execution_count": 30,
     "metadata": {},
     "output_type": "execute_result"
    }
   ],
   "source": [
    "df.shape"
   ]
  },
  {
   "cell_type": "markdown",
   "id": "467a8ac5",
   "metadata": {},
   "source": [
    "## Data Cleaning"
   ]
  },
  {
   "cell_type": "markdown",
   "id": "1b09fdc0",
   "metadata": {},
   "source": [
    "#### Keep unique participants by removing duplicates by IP address\n"
   ]
  },
  {
   "cell_type": "code",
   "execution_count": 31,
   "id": "f898bdc3",
   "metadata": {},
   "outputs": [
    {
     "data": {
      "text/plain": [
       "(318496, 110)"
      ]
     },
     "execution_count": 31,
     "metadata": {},
     "output_type": "execute_result"
    }
   ],
   "source": [
    "#Multiple IP counts could be the same person doing the test multiple times  \n",
    "df[df['IPC'] != 1].shape"
   ]
  },
  {
   "cell_type": "code",
   "execution_count": 32,
   "id": "6342f1b9",
   "metadata": {},
   "outputs": [
    {
     "data": {
      "text/plain": [
       "(696845, 110)"
      ]
     },
     "execution_count": 32,
     "metadata": {},
     "output_type": "execute_result"
    }
   ],
   "source": [
    "#Keep unique participants by removing duplicates by IP address\n",
    "df_clean = df[df['IPC'] == 1]\n",
    "df_clean.shape"
   ]
  },
  {
   "cell_type": "markdown",
   "id": "6e86837e",
   "metadata": {},
   "source": [
    "#### Drop rows with any missing values in the 50 questions\n"
   ]
  },
  {
   "cell_type": "code",
   "execution_count": 33,
   "id": "393b855a",
   "metadata": {},
   "outputs": [
    {
     "name": "stdout",
     "output_type": "stream",
     "text": [
      "['EXT1', 'EXT2', 'EXT3', 'EXT4', 'EXT5', 'EXT6', 'EXT7', 'EXT8', 'EXT9', 'EXT10', 'EST1', 'EST2', 'EST3', 'EST4', 'EST5', 'EST6', 'EST7', 'EST8', 'EST9', 'EST10', 'AGR1', 'AGR2', 'AGR3', 'AGR4', 'AGR5', 'AGR6', 'AGR7', 'AGR8', 'AGR9', 'AGR10', 'CSN1', 'CSN2', 'CSN3', 'CSN4', 'CSN5', 'CSN6', 'CSN7', 'CSN8', 'CSN9', 'CSN10', 'OPN1', 'OPN2', 'OPN3', 'OPN4', 'OPN5', 'OPN6', 'OPN7', 'OPN8', 'OPN9', 'OPN10']\n",
      "50\n"
     ]
    }
   ],
   "source": [
    "#Drop rows with any missing values in the 50 questions\n",
    "# Check total missing per question\n",
    "import re\n",
    "\n",
    "item_cols = [col for col in df_clean.columns if re.match(r'^(EXT|EST|AGR|CSN|OPN)\\d+$', col)]\n",
    "print(item_cols)\n",
    "print(len(item_cols))  # Should be exactly 50\n"
   ]
  },
  {
   "cell_type": "markdown",
   "id": "4d0ddace",
   "metadata": {},
   "source": [
    "#### Drop rows with any invalid responses (score outside of 1-5) \n"
   ]
  },
  {
   "cell_type": "code",
   "execution_count": 34,
   "id": "3d8c8d79",
   "metadata": {},
   "outputs": [
    {
     "name": "stdout",
     "output_type": "stream",
     "text": [
      "0.0\n",
      "5.0\n"
     ]
    }
   ],
   "source": [
    "print(df_clean[item_cols].min().min())\n",
    "print(df_clean[item_cols].max().max())\n"
   ]
  },
  {
   "cell_type": "code",
   "execution_count": 35,
   "id": "d6865aed",
   "metadata": {},
   "outputs": [
    {
     "name": "stdout",
     "output_type": "stream",
     "text": [
      "Total invalid entries: 234989\n",
      "Rows with at least one invalid entry: 92382\n"
     ]
    }
   ],
   "source": [
    "#Drop rows with any invalid responses (score outside of 1-5) \n",
    "invalid_score = (df_clean[item_cols] < 1) | (df_clean[item_cols] > 5)\n",
    "print(\"Total invalid entries:\", invalid_score.sum().sum())\n",
    "rows_with_invalid = invalid_score.any(axis=1)\n",
    "print(\"Rows with at least one invalid entry:\", rows_with_invalid.sum())"
   ]
  },
  {
   "cell_type": "code",
   "execution_count": 36,
   "id": "5116086b",
   "metadata": {},
   "outputs": [
    {
     "name": "stdout",
     "output_type": "stream",
     "text": [
      "(604463, 110)\n"
     ]
    }
   ],
   "source": [
    "df_clean = df_clean[~rows_with_invalid]\n",
    "print(df_clean.shape)"
   ]
  },
  {
   "cell_type": "markdown",
   "id": "bbc8efb2",
   "metadata": {},
   "source": [
    "#### Drop unrealistic testelapse values"
   ]
  },
  {
   "cell_type": "code",
   "execution_count": 37,
   "id": "ddb8a907",
   "metadata": {},
   "outputs": [
    {
     "name": "stdout",
     "output_type": "stream",
     "text": [
      "(603223, 110)\n"
     ]
    }
   ],
   "source": [
    "#testelapse = the time(s) spent answering the 50 questions\n",
    "#Finishing 50 questions under 20 seconds is near-impossible -> could be bots\n",
    "df_clean = df_clean[df_clean['testelapse'] >= 20]\n",
    "print(df_clean.shape)"
   ]
  },
  {
   "cell_type": "markdown",
   "id": "11a21aa7",
   "metadata": {},
   "source": [
    "#### Drop rows with introelapse == 0"
   ]
  },
  {
   "cell_type": "code",
   "execution_count": 38,
   "id": "f470b8d3",
   "metadata": {},
   "outputs": [
    {
     "name": "stdout",
     "output_type": "stream",
     "text": [
      "(602587, 110)\n"
     ]
    }
   ],
   "source": [
    "#introelapse = time spent on the landing page -> shouldn't be 0\n",
    "df_clean = df_clean[df_clean['introelapse'] > 0]\n",
    "print(df_clean.shape)"
   ]
  },
  {
   "cell_type": "markdown",
   "id": "61ffaf99",
   "metadata": {},
   "source": [
    "#### Filter by Country [Optional]"
   ]
  },
  {
   "cell_type": "code",
   "execution_count": 39,
   "id": "d15d0949",
   "metadata": {},
   "outputs": [
    {
     "name": "stdout",
     "output_type": "stream",
     "text": [
      "country\n",
      "CA    38329\n",
      "Name: count, dtype: int64\n",
      "(38329, 110)\n"
     ]
    }
   ],
   "source": [
    "#Filtering by Country lines for possible future use\n",
    "#Selecting only Canadian entries\n",
    "df_CA = df_clean[df_clean['country'].isin(['CA'])]\n",
    "print(df_CA['country'].value_counts())\n",
    "print(df_CA.shape)"
   ]
  },
  {
   "cell_type": "markdown",
   "id": "751cfef2",
   "metadata": {},
   "source": [
    "##### Calculate mean score for each trait\n"
   ]
  },
  {
   "cell_type": "code",
   "execution_count": 40,
   "id": "7ea6bde8",
   "metadata": {},
   "outputs": [
    {
     "data": {
      "text/html": [
       "<div>\n",
       "<style scoped>\n",
       "    .dataframe tbody tr th:only-of-type {\n",
       "        vertical-align: middle;\n",
       "    }\n",
       "\n",
       "    .dataframe tbody tr th {\n",
       "        vertical-align: top;\n",
       "    }\n",
       "\n",
       "    .dataframe thead th {\n",
       "        text-align: right;\n",
       "    }\n",
       "</style>\n",
       "<table border=\"1\" class=\"dataframe\">\n",
       "  <thead>\n",
       "    <tr style=\"text-align: right;\">\n",
       "      <th></th>\n",
       "      <th>Extraversion</th>\n",
       "      <th>Emotional Stability</th>\n",
       "      <th>Agreeableness</th>\n",
       "      <th>Conscientiousness</th>\n",
       "      <th>Openness</th>\n",
       "    </tr>\n",
       "  </thead>\n",
       "  <tbody>\n",
       "    <tr>\n",
       "      <th>0</th>\n",
       "      <td>3.0</td>\n",
       "      <td>2.4</td>\n",
       "      <td>3.1</td>\n",
       "      <td>3.2</td>\n",
       "      <td>3.3</td>\n",
       "    </tr>\n",
       "    <tr>\n",
       "      <th>1</th>\n",
       "      <td>3.4</td>\n",
       "      <td>2.1</td>\n",
       "      <td>3.2</td>\n",
       "      <td>3.1</td>\n",
       "      <td>2.7</td>\n",
       "    </tr>\n",
       "    <tr>\n",
       "      <th>2</th>\n",
       "      <td>2.9</td>\n",
       "      <td>2.6</td>\n",
       "      <td>2.8</td>\n",
       "      <td>2.8</td>\n",
       "      <td>3.1</td>\n",
       "    </tr>\n",
       "    <tr>\n",
       "      <th>3</th>\n",
       "      <td>2.6</td>\n",
       "      <td>2.7</td>\n",
       "      <td>3.2</td>\n",
       "      <td>2.7</td>\n",
       "      <td>3.1</td>\n",
       "    </tr>\n",
       "    <tr>\n",
       "      <th>5</th>\n",
       "      <td>3.0</td>\n",
       "      <td>2.2</td>\n",
       "      <td>2.8</td>\n",
       "      <td>2.9</td>\n",
       "      <td>3.2</td>\n",
       "    </tr>\n",
       "  </tbody>\n",
       "</table>\n",
       "</div>"
      ],
      "text/plain": [
       "   Extraversion  Emotional Stability  Agreeableness  Conscientiousness  \\\n",
       "0           3.0                  2.4            3.1                3.2   \n",
       "1           3.4                  2.1            3.2                3.1   \n",
       "2           2.9                  2.6            2.8                2.8   \n",
       "3           2.6                  2.7            3.2                2.7   \n",
       "5           3.0                  2.2            2.8                2.9   \n",
       "\n",
       "   Openness  \n",
       "0       3.3  \n",
       "1       2.7  \n",
       "2       3.1  \n",
       "3       3.1  \n",
       "5       3.2  "
      ]
     },
     "execution_count": 40,
     "metadata": {},
     "output_type": "execute_result"
    }
   ],
   "source": [
    "# Calculate mean score for each trait\n",
    "df_clean['Extraversion'] = df_clean[[f'EXT{i}' for i in range(1, 11)]].mean(axis=1)\n",
    "df_clean['Emotional Stability'] = df_clean[[f'EST{i}' for i in range(1, 11)]].mean(axis=1)\n",
    "df_clean['Agreeableness'] = df_clean[[f'AGR{i}' for i in range(1, 11)]].mean(axis=1)\n",
    "df_clean['Conscientiousness'] = df_clean[[f'CSN{i}' for i in range(1, 11)]].mean(axis=1)\n",
    "df_clean['Openness'] = df_clean[[f'OPN{i}' for i in range(1, 11)]].mean(axis=1)\n",
    "\n",
    "df_clean[['Extraversion', 'Emotional Stability', 'Agreeableness', 'Conscientiousness', 'Openness']].head()"
   ]
  },
  {
   "cell_type": "code",
   "execution_count": 41,
   "id": "6b53533a",
   "metadata": {},
   "outputs": [
    {
     "data": {
      "text/html": [
       "<div>\n",
       "<style scoped>\n",
       "    .dataframe tbody tr th:only-of-type {\n",
       "        vertical-align: middle;\n",
       "    }\n",
       "\n",
       "    .dataframe tbody tr th {\n",
       "        vertical-align: top;\n",
       "    }\n",
       "\n",
       "    .dataframe thead th {\n",
       "        text-align: right;\n",
       "    }\n",
       "</style>\n",
       "<table border=\"1\" class=\"dataframe\">\n",
       "  <thead>\n",
       "    <tr style=\"text-align: right;\">\n",
       "      <th></th>\n",
       "      <th>Extraversion</th>\n",
       "      <th>Emotional Stability</th>\n",
       "      <th>Agreeableness</th>\n",
       "      <th>Conscientiousness</th>\n",
       "      <th>Openness</th>\n",
       "    </tr>\n",
       "  </thead>\n",
       "  <tbody>\n",
       "    <tr>\n",
       "      <th>count</th>\n",
       "      <td>602587.000000</td>\n",
       "      <td>602587.000000</td>\n",
       "      <td>602587.000000</td>\n",
       "      <td>602587.000000</td>\n",
       "      <td>602587.000000</td>\n",
       "    </tr>\n",
       "    <tr>\n",
       "      <th>mean</th>\n",
       "      <td>3.030420</td>\n",
       "      <td>3.047360</td>\n",
       "      <td>3.167351</td>\n",
       "      <td>3.143114</td>\n",
       "      <td>3.309093</td>\n",
       "    </tr>\n",
       "    <tr>\n",
       "      <th>std</th>\n",
       "      <td>0.332876</td>\n",
       "      <td>0.641163</td>\n",
       "      <td>0.345323</td>\n",
       "      <td>0.375442</td>\n",
       "      <td>0.365255</td>\n",
       "    </tr>\n",
       "    <tr>\n",
       "      <th>min</th>\n",
       "      <td>1.000000</td>\n",
       "      <td>1.000000</td>\n",
       "      <td>1.000000</td>\n",
       "      <td>1.000000</td>\n",
       "      <td>1.000000</td>\n",
       "    </tr>\n",
       "    <tr>\n",
       "      <th>25%</th>\n",
       "      <td>2.800000</td>\n",
       "      <td>2.600000</td>\n",
       "      <td>3.000000</td>\n",
       "      <td>2.900000</td>\n",
       "      <td>3.100000</td>\n",
       "    </tr>\n",
       "    <tr>\n",
       "      <th>50%</th>\n",
       "      <td>3.000000</td>\n",
       "      <td>3.000000</td>\n",
       "      <td>3.200000</td>\n",
       "      <td>3.100000</td>\n",
       "      <td>3.300000</td>\n",
       "    </tr>\n",
       "    <tr>\n",
       "      <th>75%</th>\n",
       "      <td>3.200000</td>\n",
       "      <td>3.500000</td>\n",
       "      <td>3.400000</td>\n",
       "      <td>3.400000</td>\n",
       "      <td>3.600000</td>\n",
       "    </tr>\n",
       "    <tr>\n",
       "      <th>max</th>\n",
       "      <td>5.000000</td>\n",
       "      <td>5.000000</td>\n",
       "      <td>5.000000</td>\n",
       "      <td>5.000000</td>\n",
       "      <td>5.000000</td>\n",
       "    </tr>\n",
       "  </tbody>\n",
       "</table>\n",
       "</div>"
      ],
      "text/plain": [
       "        Extraversion  Emotional Stability  Agreeableness  Conscientiousness  \\\n",
       "count  602587.000000        602587.000000  602587.000000      602587.000000   \n",
       "mean        3.030420             3.047360       3.167351           3.143114   \n",
       "std         0.332876             0.641163       0.345323           0.375442   \n",
       "min         1.000000             1.000000       1.000000           1.000000   \n",
       "25%         2.800000             2.600000       3.000000           2.900000   \n",
       "50%         3.000000             3.000000       3.200000           3.100000   \n",
       "75%         3.200000             3.500000       3.400000           3.400000   \n",
       "max         5.000000             5.000000       5.000000           5.000000   \n",
       "\n",
       "            Openness  \n",
       "count  602587.000000  \n",
       "mean        3.309093  \n",
       "std         0.365255  \n",
       "min         1.000000  \n",
       "25%         3.100000  \n",
       "50%         3.300000  \n",
       "75%         3.600000  \n",
       "max         5.000000  "
      ]
     },
     "execution_count": 41,
     "metadata": {},
     "output_type": "execute_result"
    }
   ],
   "source": [
    "df_clean[['Extraversion', 'Emotional Stability', 'Agreeableness', 'Conscientiousness', 'Openness']].describe()"
   ]
  },
  {
   "cell_type": "markdown",
   "id": "ee7543b6",
   "metadata": {},
   "source": [
    "#### Reverse Coding Emotional Stability to Neuroticism"
   ]
  },
  {
   "cell_type": "code",
   "execution_count": null,
   "id": "726c550e",
   "metadata": {},
   "outputs": [
    {
     "data": {
      "text/plain": [
       "['EST1',\n",
       " 'EST2',\n",
       " 'EST3',\n",
       " 'EST4',\n",
       " 'EST5',\n",
       " 'EST6',\n",
       " 'EST7',\n",
       " 'EST8',\n",
       " 'EST9',\n",
       " 'EST10']"
      ]
     },
     "execution_count": 42,
     "metadata": {},
     "output_type": "execute_result"
    }
   ],
   "source": [
    "\n",
    "est_items = [col for col in df_clean.columns if col.startswith('EST') and not col.endswith('_E')]\n",
    "est_items"
   ]
  },
  {
   "cell_type": "code",
   "execution_count": null,
   "id": "74816145",
   "metadata": {},
   "outputs": [],
   "source": [
    "#Reverse coding emotional stability items to neuroticism items\n",
    "for i in range(1, 11):\n",
    "    df_clean[f'NRT{i}'] = 6 - df_clean[f'EST{i}']"
   ]
  },
  {
   "cell_type": "code",
   "execution_count": null,
   "id": "e77c6afc",
   "metadata": {},
   "outputs": [
    {
     "data": {
      "text/plain": [
       "['NRT1',\n",
       " 'NRT2',\n",
       " 'NRT3',\n",
       " 'NRT4',\n",
       " 'NRT5',\n",
       " 'NRT6',\n",
       " 'NRT7',\n",
       " 'NRT8',\n",
       " 'NRT9',\n",
       " 'NRT10']"
      ]
     },
     "execution_count": 44,
     "metadata": {},
     "output_type": "execute_result"
    }
   ],
   "source": [
    "#Checking if the NRT columns are created \n",
    "nrt_items = [col for col in df_clean.columns if col.startswith('NRT')]\n",
    "nrt_items"
   ]
  },
  {
   "cell_type": "code",
   "execution_count": 47,
   "id": "6459a222",
   "metadata": {},
   "outputs": [],
   "source": [
    "#Calculate mean score for Neuroticism\n",
    "df_clean['Neuroticism'] = df_clean[[f'NRT{i}' for i in range(1, 11)]].mean(axis=1)\n"
   ]
  },
  {
   "cell_type": "code",
   "execution_count": 48,
   "id": "0d6d1a5c",
   "metadata": {},
   "outputs": [
    {
     "data": {
      "text/html": [
       "<div>\n",
       "<style scoped>\n",
       "    .dataframe tbody tr th:only-of-type {\n",
       "        vertical-align: middle;\n",
       "    }\n",
       "\n",
       "    .dataframe tbody tr th {\n",
       "        vertical-align: top;\n",
       "    }\n",
       "\n",
       "    .dataframe thead th {\n",
       "        text-align: right;\n",
       "    }\n",
       "</style>\n",
       "<table border=\"1\" class=\"dataframe\">\n",
       "  <thead>\n",
       "    <tr style=\"text-align: right;\">\n",
       "      <th></th>\n",
       "      <th>Neuroticism</th>\n",
       "      <th>Emotional Stability</th>\n",
       "    </tr>\n",
       "  </thead>\n",
       "  <tbody>\n",
       "    <tr>\n",
       "      <th>0</th>\n",
       "      <td>3.6</td>\n",
       "      <td>2.4</td>\n",
       "    </tr>\n",
       "    <tr>\n",
       "      <th>1</th>\n",
       "      <td>3.9</td>\n",
       "      <td>2.1</td>\n",
       "    </tr>\n",
       "    <tr>\n",
       "      <th>2</th>\n",
       "      <td>3.4</td>\n",
       "      <td>2.6</td>\n",
       "    </tr>\n",
       "    <tr>\n",
       "      <th>3</th>\n",
       "      <td>3.3</td>\n",
       "      <td>2.7</td>\n",
       "    </tr>\n",
       "    <tr>\n",
       "      <th>5</th>\n",
       "      <td>3.8</td>\n",
       "      <td>2.2</td>\n",
       "    </tr>\n",
       "    <tr>\n",
       "      <th>...</th>\n",
       "      <td>...</td>\n",
       "      <td>...</td>\n",
       "    </tr>\n",
       "    <tr>\n",
       "      <th>1015334</th>\n",
       "      <td>3.2</td>\n",
       "      <td>2.8</td>\n",
       "    </tr>\n",
       "    <tr>\n",
       "      <th>1015335</th>\n",
       "      <td>1.8</td>\n",
       "      <td>4.2</td>\n",
       "    </tr>\n",
       "    <tr>\n",
       "      <th>1015337</th>\n",
       "      <td>2.0</td>\n",
       "      <td>4.0</td>\n",
       "    </tr>\n",
       "    <tr>\n",
       "      <th>1015339</th>\n",
       "      <td>2.7</td>\n",
       "      <td>3.3</td>\n",
       "    </tr>\n",
       "    <tr>\n",
       "      <th>1015340</th>\n",
       "      <td>3.1</td>\n",
       "      <td>2.9</td>\n",
       "    </tr>\n",
       "  </tbody>\n",
       "</table>\n",
       "<p>602587 rows × 2 columns</p>\n",
       "</div>"
      ],
      "text/plain": [
       "         Neuroticism  Emotional Stability\n",
       "0                3.6                  2.4\n",
       "1                3.9                  2.1\n",
       "2                3.4                  2.6\n",
       "3                3.3                  2.7\n",
       "5                3.8                  2.2\n",
       "...              ...                  ...\n",
       "1015334          3.2                  2.8\n",
       "1015335          1.8                  4.2\n",
       "1015337          2.0                  4.0\n",
       "1015339          2.7                  3.3\n",
       "1015340          3.1                  2.9\n",
       "\n",
       "[602587 rows x 2 columns]"
      ]
     },
     "execution_count": 48,
     "metadata": {},
     "output_type": "execute_result"
    }
   ],
   "source": [
    "#Comparing EST and NRT\n",
    "df_clean[['Neuroticism', 'Emotional Stability']]"
   ]
  },
  {
   "cell_type": "markdown",
   "id": "9043fe6e",
   "metadata": {},
   "source": [
    "#### Saving Cleaned Data in CSV"
   ]
  },
  {
   "cell_type": "code",
   "execution_count": 49,
   "id": "ef39e0b3",
   "metadata": {},
   "outputs": [],
   "source": [
    "df_clean.to_csv('../data/cleaned/cleaned_bigfive_v1.csv', index=False)"
   ]
  }
 ],
 "metadata": {
  "kernelspec": {
   "display_name": "venv",
   "language": "python",
   "name": "python3"
  },
  "language_info": {
   "codemirror_mode": {
    "name": "ipython",
    "version": 3
   },
   "file_extension": ".py",
   "mimetype": "text/x-python",
   "name": "python",
   "nbconvert_exporter": "python",
   "pygments_lexer": "ipython3",
   "version": "3.11.13"
  }
 },
 "nbformat": 4,
 "nbformat_minor": 5
}
